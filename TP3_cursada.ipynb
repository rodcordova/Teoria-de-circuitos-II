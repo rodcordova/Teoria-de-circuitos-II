{
 "cells": [
  {
   "cell_type": "markdown",
   "metadata": {},
   "source": [
    "# Clase 28/05/2020\n",
    "\n",
    "## Ejercicios TP3\n",
    "\n",
    "### Ejercicio 2\n",
    "\n",
    "Obtener la Z(s) que corresponde a la siguiente función de fase:\n",
    "\n",
    "$ \\phi_{(w)} = tg^{-1} \\frac{-w^5 + 5 w^3 - 2w}{2 w^4 - w^2 + 5}$\n",
    "\n",
    "<img src='punto_1.jpg'>\n",
    "\n",
    "### Ejercicio 5\n",
    "\n",
    "\n",
    "El siguiente diagrama de Bode corresponde a la respuesta en módulo de la transferencia de una red de énfasis, utilizada en un transmisor de FM para Broadcasting. Diseñar el circuito, verificando el mismo mediante simulación.\n",
    "\n",
    "<img src='bode_enfasis.png'>\n",
    "\n"
   ]
  },
  {
   "cell_type": "markdown",
   "metadata": {},
   "source": [
    "<img src='punto_2_0.jpg'>\n",
    "\n",
    "Se tuvo problemas al simular el circuito 1 en el simulador TINA, por eso se opto por el circuito 2\n",
    "<img src='punto_2_a.jpg'>\n",
    "<img src='punto_2_b.jpg'>"
   ]
  },
  {
   "cell_type": "markdown",
   "metadata": {},
   "source": [
    "Sintetizando con un circuito provado con el software TINA"
   ]
  },
  {
   "cell_type": "markdown",
   "metadata": {},
   "source": [
    "<img src='Circuito.jpg'>\n",
    "\n",
    "Se agrega al final del circuito encontrado una innversora para que la transferencia del cicuito sea equivalente al del hallado analiticamente\n",
    "\n",
    "<img src='Grafico_simulacion.jpg'>\n",
    "\n",
    "Se puede observar a los $ 2000 Hz =  \\frac{4000*pi}{2*pi} $ el grafico se eleva por el cero, luego a los $31990 Hz= \\frac{64000*pi}{2*pi}$ hay un polo en donde contraresta la pendiente. "
   ]
  },
  {
   "cell_type": "code",
   "execution_count": null,
   "metadata": {},
   "outputs": [],
   "source": []
  }
 ],
 "metadata": {
  "kernelspec": {
   "display_name": "Python 3",
   "language": "python",
   "name": "python3"
  },
  "language_info": {
   "codemirror_mode": {
    "name": "ipython",
    "version": 3
   },
   "file_extension": ".py",
   "mimetype": "text/x-python",
   "name": "python",
   "nbconvert_exporter": "python",
   "pygments_lexer": "ipython3",
   "version": "3.7.6"
  }
 },
 "nbformat": 4,
 "nbformat_minor": 4
}
